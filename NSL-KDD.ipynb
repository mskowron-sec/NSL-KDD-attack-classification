{
 "cells": [
  {
   "cell_type": "markdown",
   "metadata": {},
   "source": [
    "<h1>Classifying network attacks -NSL KDD dataset</h1>"
   ]
  },
  {
   "cell_type": "markdown",
   "metadata": {},
   "source": [
    "<h2> Problem </h2>\n",
    "Anomaly detection and Network attacks classification with machine learning and NSL-KDD dataset <br>\n",
    "*Warning!* Some cells might not be in order of execution"
   ]
  },
  {
   "cell_type": "markdown",
   "metadata": {},
   "source": [
    "<h2> Analysis of the dataset </h2>\n",
    "features provided, labels, categories of attacks"
   ]
  },
  {
   "cell_type": "code",
   "execution_count": 2,
   "metadata": {},
   "outputs": [],
   "source": [
    "import pandas as pd\n",
    "import sklearn\n",
    "from scipy.io import arff\n",
    "import numpy as np\n",
    "from matplotlib import pyplot as plt\n",
    "import matplotlib as mpl\n",
    "import seaborn as sns\n",
    "%config IPCompleter.greedy=True"
   ]
  },
  {
   "cell_type": "markdown",
   "metadata": {},
   "source": [
    "<b>Load dataset</b>"
   ]
  },
  {
   "cell_type": "code",
   "execution_count": 226,
   "metadata": {},
   "outputs": [
    {
     "data": {
      "text/html": [
       "<div>\n",
       "<style scoped>\n",
       "    .dataframe tbody tr th:only-of-type {\n",
       "        vertical-align: middle;\n",
       "    }\n",
       "\n",
       "    .dataframe tbody tr th {\n",
       "        vertical-align: top;\n",
       "    }\n",
       "\n",
       "    .dataframe thead th {\n",
       "        text-align: right;\n",
       "    }\n",
       "</style>\n",
       "<table border=\"1\" class=\"dataframe\">\n",
       "  <thead>\n",
       "    <tr style=\"text-align: right;\">\n",
       "      <th></th>\n",
       "      <th>duration</th>\n",
       "      <th>protocol_type</th>\n",
       "      <th>service</th>\n",
       "      <th>flag</th>\n",
       "      <th>src_bytes</th>\n",
       "      <th>dst_bytes</th>\n",
       "      <th>land</th>\n",
       "      <th>wrong_fragment</th>\n",
       "      <th>urgent</th>\n",
       "      <th>hot</th>\n",
       "      <th>...</th>\n",
       "      <th>dst_host_same_srv_rate</th>\n",
       "      <th>dst_host_diff_srv_rate</th>\n",
       "      <th>dst_host_same_src_port_rate</th>\n",
       "      <th>dst_host_srv_diff_host_rate</th>\n",
       "      <th>dst_host_serror_rate</th>\n",
       "      <th>dst_host_srv_serror_rate</th>\n",
       "      <th>dst_host_rerror_rate</th>\n",
       "      <th>dst_host_srv_rerror_rate</th>\n",
       "      <th>attack_type</th>\n",
       "      <th>success_pred</th>\n",
       "    </tr>\n",
       "  </thead>\n",
       "  <tbody>\n",
       "    <tr>\n",
       "      <th>0</th>\n",
       "      <td>0</td>\n",
       "      <td>tcp</td>\n",
       "      <td>ftp_data</td>\n",
       "      <td>SF</td>\n",
       "      <td>491</td>\n",
       "      <td>0</td>\n",
       "      <td>0</td>\n",
       "      <td>0</td>\n",
       "      <td>0</td>\n",
       "      <td>0</td>\n",
       "      <td>...</td>\n",
       "      <td>0.17</td>\n",
       "      <td>0.03</td>\n",
       "      <td>0.17</td>\n",
       "      <td>0.00</td>\n",
       "      <td>0.00</td>\n",
       "      <td>0.00</td>\n",
       "      <td>0.05</td>\n",
       "      <td>0.00</td>\n",
       "      <td>normal</td>\n",
       "      <td>20</td>\n",
       "    </tr>\n",
       "    <tr>\n",
       "      <th>1</th>\n",
       "      <td>0</td>\n",
       "      <td>udp</td>\n",
       "      <td>other</td>\n",
       "      <td>SF</td>\n",
       "      <td>146</td>\n",
       "      <td>0</td>\n",
       "      <td>0</td>\n",
       "      <td>0</td>\n",
       "      <td>0</td>\n",
       "      <td>0</td>\n",
       "      <td>...</td>\n",
       "      <td>0.00</td>\n",
       "      <td>0.60</td>\n",
       "      <td>0.88</td>\n",
       "      <td>0.00</td>\n",
       "      <td>0.00</td>\n",
       "      <td>0.00</td>\n",
       "      <td>0.00</td>\n",
       "      <td>0.00</td>\n",
       "      <td>normal</td>\n",
       "      <td>15</td>\n",
       "    </tr>\n",
       "    <tr>\n",
       "      <th>2</th>\n",
       "      <td>0</td>\n",
       "      <td>tcp</td>\n",
       "      <td>private</td>\n",
       "      <td>S0</td>\n",
       "      <td>0</td>\n",
       "      <td>0</td>\n",
       "      <td>0</td>\n",
       "      <td>0</td>\n",
       "      <td>0</td>\n",
       "      <td>0</td>\n",
       "      <td>...</td>\n",
       "      <td>0.10</td>\n",
       "      <td>0.05</td>\n",
       "      <td>0.00</td>\n",
       "      <td>0.00</td>\n",
       "      <td>1.00</td>\n",
       "      <td>1.00</td>\n",
       "      <td>0.00</td>\n",
       "      <td>0.00</td>\n",
       "      <td>neptune</td>\n",
       "      <td>19</td>\n",
       "    </tr>\n",
       "    <tr>\n",
       "      <th>3</th>\n",
       "      <td>0</td>\n",
       "      <td>tcp</td>\n",
       "      <td>http</td>\n",
       "      <td>SF</td>\n",
       "      <td>232</td>\n",
       "      <td>8153</td>\n",
       "      <td>0</td>\n",
       "      <td>0</td>\n",
       "      <td>0</td>\n",
       "      <td>0</td>\n",
       "      <td>...</td>\n",
       "      <td>1.00</td>\n",
       "      <td>0.00</td>\n",
       "      <td>0.03</td>\n",
       "      <td>0.04</td>\n",
       "      <td>0.03</td>\n",
       "      <td>0.01</td>\n",
       "      <td>0.00</td>\n",
       "      <td>0.01</td>\n",
       "      <td>normal</td>\n",
       "      <td>21</td>\n",
       "    </tr>\n",
       "    <tr>\n",
       "      <th>4</th>\n",
       "      <td>0</td>\n",
       "      <td>tcp</td>\n",
       "      <td>http</td>\n",
       "      <td>SF</td>\n",
       "      <td>199</td>\n",
       "      <td>420</td>\n",
       "      <td>0</td>\n",
       "      <td>0</td>\n",
       "      <td>0</td>\n",
       "      <td>0</td>\n",
       "      <td>...</td>\n",
       "      <td>1.00</td>\n",
       "      <td>0.00</td>\n",
       "      <td>0.00</td>\n",
       "      <td>0.00</td>\n",
       "      <td>0.00</td>\n",
       "      <td>0.00</td>\n",
       "      <td>0.00</td>\n",
       "      <td>0.00</td>\n",
       "      <td>normal</td>\n",
       "      <td>21</td>\n",
       "    </tr>\n",
       "  </tbody>\n",
       "</table>\n",
       "<p>5 rows × 43 columns</p>\n",
       "</div>"
      ],
      "text/plain": [
       "   duration protocol_type   service flag  src_bytes  dst_bytes  land  \\\n",
       "0         0           tcp  ftp_data   SF        491          0     0   \n",
       "1         0           udp     other   SF        146          0     0   \n",
       "2         0           tcp   private   S0          0          0     0   \n",
       "3         0           tcp      http   SF        232       8153     0   \n",
       "4         0           tcp      http   SF        199        420     0   \n",
       "\n",
       "   wrong_fragment  urgent  hot  ...  dst_host_same_srv_rate  \\\n",
       "0               0       0    0  ...                    0.17   \n",
       "1               0       0    0  ...                    0.00   \n",
       "2               0       0    0  ...                    0.10   \n",
       "3               0       0    0  ...                    1.00   \n",
       "4               0       0    0  ...                    1.00   \n",
       "\n",
       "   dst_host_diff_srv_rate  dst_host_same_src_port_rate  \\\n",
       "0                    0.03                         0.17   \n",
       "1                    0.60                         0.88   \n",
       "2                    0.05                         0.00   \n",
       "3                    0.00                         0.03   \n",
       "4                    0.00                         0.00   \n",
       "\n",
       "   dst_host_srv_diff_host_rate  dst_host_serror_rate  \\\n",
       "0                         0.00                  0.00   \n",
       "1                         0.00                  0.00   \n",
       "2                         0.00                  1.00   \n",
       "3                         0.04                  0.03   \n",
       "4                         0.00                  0.00   \n",
       "\n",
       "   dst_host_srv_serror_rate  dst_host_rerror_rate  dst_host_srv_rerror_rate  \\\n",
       "0                      0.00                  0.05                      0.00   \n",
       "1                      0.00                  0.00                      0.00   \n",
       "2                      1.00                  0.00                      0.00   \n",
       "3                      0.01                  0.00                      0.01   \n",
       "4                      0.00                  0.00                      0.00   \n",
       "\n",
       "   attack_type  success_pred  \n",
       "0       normal            20  \n",
       "1       normal            15  \n",
       "2      neptune            19  \n",
       "3       normal            21  \n",
       "4       normal            21  \n",
       "\n",
       "[5 rows x 43 columns]"
      ]
     },
     "execution_count": 226,
     "metadata": {},
     "output_type": "execute_result"
    }
   ],
   "source": [
    "#dataset = arff.loadarff(\"NSL-KDD-Dataset-master\\KDDTrain+.arff\")\n",
    "#train_dset=pd.DataFrame(dataset[0])\n",
    "#add heders to the dataset\n",
    "features = ['duration', 'protocol_type', 'service', 'flag', 'src_bytes', 'dst_bytes', 'land', 'wrong_fragment', 'urgent', 'hot', 'num_failed_logins', 'logged_in', 'num_compromised', 'root_shell', 'su_attempted', 'num_root', 'num_file_creations', 'num_shells', 'num_access_files', 'num_outbound_cmds', 'is_host_login', 'is_guest_login', 'count', 'srv_count', 'serror_rate', 'srv_serror_rate', 'rerror_rate', 'srv_rerror_rate', 'same_srv_rate', 'diff_srv_rate', 'srv_diff_host_rate', 'dst_host_count', 'dst_host_srv_count', 'dst_host_same_srv_rate', 'dst_host_diff_srv_rate', 'dst_host_same_src_port_rate', 'dst_host_srv_diff_host_rate', 'dst_host_serror_rate', 'dst_host_srv_serror_rate', 'dst_host_rerror_rate', 'dst_host_srv_rerror_rate', 'attack_type', 'success_pred']\n",
    "train_dset=pd.read_csv(\"NSL-KDD-Dataset-master\\KDDTrain+.txt\", names=features)\n",
    "test_dset=pd.read_csv(\"NSL-KDD-Dataset-master\\KDDTest+.txt\", names=features)\n",
    "train_dset.head()\n",
    "\n"
   ]
  },
  {
   "cell_type": "code",
   "execution_count": 227,
   "metadata": {},
   "outputs": [
    {
     "data": {
      "text/html": [
       "<div>\n",
       "<style scoped>\n",
       "    .dataframe tbody tr th:only-of-type {\n",
       "        vertical-align: middle;\n",
       "    }\n",
       "\n",
       "    .dataframe tbody tr th {\n",
       "        vertical-align: top;\n",
       "    }\n",
       "\n",
       "    .dataframe thead th {\n",
       "        text-align: right;\n",
       "    }\n",
       "</style>\n",
       "<table border=\"1\" class=\"dataframe\">\n",
       "  <thead>\n",
       "    <tr style=\"text-align: right;\">\n",
       "      <th></th>\n",
       "      <th>count</th>\n",
       "      <th>mean</th>\n",
       "      <th>std</th>\n",
       "      <th>min</th>\n",
       "      <th>25%</th>\n",
       "      <th>50%</th>\n",
       "      <th>75%</th>\n",
       "      <th>max</th>\n",
       "    </tr>\n",
       "  </thead>\n",
       "  <tbody>\n",
       "    <tr>\n",
       "      <th>srv_count</th>\n",
       "      <td>125973.0</td>\n",
       "      <td>27.737888</td>\n",
       "      <td>7.263584e+01</td>\n",
       "      <td>0.0</td>\n",
       "      <td>2.00</td>\n",
       "      <td>8.00</td>\n",
       "      <td>18.00</td>\n",
       "      <td>5.110000e+02</td>\n",
       "    </tr>\n",
       "    <tr>\n",
       "      <th>dst_host_rerror_rate</th>\n",
       "      <td>125973.0</td>\n",
       "      <td>0.118832</td>\n",
       "      <td>3.065575e-01</td>\n",
       "      <td>0.0</td>\n",
       "      <td>0.00</td>\n",
       "      <td>0.00</td>\n",
       "      <td>0.00</td>\n",
       "      <td>1.000000e+00</td>\n",
       "    </tr>\n",
       "    <tr>\n",
       "      <th>srv_diff_host_rate</th>\n",
       "      <td>125973.0</td>\n",
       "      <td>0.097322</td>\n",
       "      <td>2.598305e-01</td>\n",
       "      <td>0.0</td>\n",
       "      <td>0.00</td>\n",
       "      <td>0.00</td>\n",
       "      <td>0.00</td>\n",
       "      <td>1.000000e+00</td>\n",
       "    </tr>\n",
       "    <tr>\n",
       "      <th>srv_rerror_rate</th>\n",
       "      <td>125973.0</td>\n",
       "      <td>0.121183</td>\n",
       "      <td>3.236472e-01</td>\n",
       "      <td>0.0</td>\n",
       "      <td>0.00</td>\n",
       "      <td>0.00</td>\n",
       "      <td>0.00</td>\n",
       "      <td>1.000000e+00</td>\n",
       "    </tr>\n",
       "    <tr>\n",
       "      <th>count</th>\n",
       "      <td>125973.0</td>\n",
       "      <td>84.107555</td>\n",
       "      <td>1.145086e+02</td>\n",
       "      <td>0.0</td>\n",
       "      <td>2.00</td>\n",
       "      <td>14.00</td>\n",
       "      <td>143.00</td>\n",
       "      <td>5.110000e+02</td>\n",
       "    </tr>\n",
       "    <tr>\n",
       "      <th>hot</th>\n",
       "      <td>125973.0</td>\n",
       "      <td>0.204409</td>\n",
       "      <td>2.149968e+00</td>\n",
       "      <td>0.0</td>\n",
       "      <td>0.00</td>\n",
       "      <td>0.00</td>\n",
       "      <td>0.00</td>\n",
       "      <td>7.700000e+01</td>\n",
       "    </tr>\n",
       "    <tr>\n",
       "      <th>urgent</th>\n",
       "      <td>125973.0</td>\n",
       "      <td>0.000111</td>\n",
       "      <td>1.436603e-02</td>\n",
       "      <td>0.0</td>\n",
       "      <td>0.00</td>\n",
       "      <td>0.00</td>\n",
       "      <td>0.00</td>\n",
       "      <td>3.000000e+00</td>\n",
       "    </tr>\n",
       "    <tr>\n",
       "      <th>num_failed_logins</th>\n",
       "      <td>125973.0</td>\n",
       "      <td>0.001222</td>\n",
       "      <td>4.523914e-02</td>\n",
       "      <td>0.0</td>\n",
       "      <td>0.00</td>\n",
       "      <td>0.00</td>\n",
       "      <td>0.00</td>\n",
       "      <td>5.000000e+00</td>\n",
       "    </tr>\n",
       "    <tr>\n",
       "      <th>dst_host_same_src_port_rate</th>\n",
       "      <td>125973.0</td>\n",
       "      <td>0.148379</td>\n",
       "      <td>3.089971e-01</td>\n",
       "      <td>0.0</td>\n",
       "      <td>0.00</td>\n",
       "      <td>0.00</td>\n",
       "      <td>0.06</td>\n",
       "      <td>1.000000e+00</td>\n",
       "    </tr>\n",
       "    <tr>\n",
       "      <th>dst_host_srv_count</th>\n",
       "      <td>125973.0</td>\n",
       "      <td>115.653005</td>\n",
       "      <td>1.107027e+02</td>\n",
       "      <td>0.0</td>\n",
       "      <td>10.00</td>\n",
       "      <td>63.00</td>\n",
       "      <td>255.00</td>\n",
       "      <td>2.550000e+02</td>\n",
       "    </tr>\n",
       "    <tr>\n",
       "      <th>serror_rate</th>\n",
       "      <td>125973.0</td>\n",
       "      <td>0.284485</td>\n",
       "      <td>4.464556e-01</td>\n",
       "      <td>0.0</td>\n",
       "      <td>0.00</td>\n",
       "      <td>0.00</td>\n",
       "      <td>1.00</td>\n",
       "      <td>1.000000e+00</td>\n",
       "    </tr>\n",
       "    <tr>\n",
       "      <th>num_access_files</th>\n",
       "      <td>125973.0</td>\n",
       "      <td>0.004096</td>\n",
       "      <td>9.936956e-02</td>\n",
       "      <td>0.0</td>\n",
       "      <td>0.00</td>\n",
       "      <td>0.00</td>\n",
       "      <td>0.00</td>\n",
       "      <td>9.000000e+00</td>\n",
       "    </tr>\n",
       "    <tr>\n",
       "      <th>src_bytes</th>\n",
       "      <td>125973.0</td>\n",
       "      <td>45566.743000</td>\n",
       "      <td>5.870331e+06</td>\n",
       "      <td>0.0</td>\n",
       "      <td>0.00</td>\n",
       "      <td>44.00</td>\n",
       "      <td>276.00</td>\n",
       "      <td>1.379964e+09</td>\n",
       "    </tr>\n",
       "    <tr>\n",
       "      <th>dst_host_diff_srv_rate</th>\n",
       "      <td>125973.0</td>\n",
       "      <td>0.082951</td>\n",
       "      <td>1.889218e-01</td>\n",
       "      <td>0.0</td>\n",
       "      <td>0.00</td>\n",
       "      <td>0.02</td>\n",
       "      <td>0.07</td>\n",
       "      <td>1.000000e+00</td>\n",
       "    </tr>\n",
       "    <tr>\n",
       "      <th>dst_bytes</th>\n",
       "      <td>125973.0</td>\n",
       "      <td>19779.114421</td>\n",
       "      <td>4.021269e+06</td>\n",
       "      <td>0.0</td>\n",
       "      <td>0.00</td>\n",
       "      <td>0.00</td>\n",
       "      <td>516.00</td>\n",
       "      <td>1.309937e+09</td>\n",
       "    </tr>\n",
       "    <tr>\n",
       "      <th>dst_host_count</th>\n",
       "      <td>125973.0</td>\n",
       "      <td>182.148945</td>\n",
       "      <td>9.920621e+01</td>\n",
       "      <td>0.0</td>\n",
       "      <td>82.00</td>\n",
       "      <td>255.00</td>\n",
       "      <td>255.00</td>\n",
       "      <td>2.550000e+02</td>\n",
       "    </tr>\n",
       "    <tr>\n",
       "      <th>num_file_creations</th>\n",
       "      <td>125973.0</td>\n",
       "      <td>0.012669</td>\n",
       "      <td>4.839351e-01</td>\n",
       "      <td>0.0</td>\n",
       "      <td>0.00</td>\n",
       "      <td>0.00</td>\n",
       "      <td>0.00</td>\n",
       "      <td>4.300000e+01</td>\n",
       "    </tr>\n",
       "    <tr>\n",
       "      <th>dst_host_srv_rerror_rate</th>\n",
       "      <td>125973.0</td>\n",
       "      <td>0.120240</td>\n",
       "      <td>3.194594e-01</td>\n",
       "      <td>0.0</td>\n",
       "      <td>0.00</td>\n",
       "      <td>0.00</td>\n",
       "      <td>0.00</td>\n",
       "      <td>1.000000e+00</td>\n",
       "    </tr>\n",
       "    <tr>\n",
       "      <th>dst_host_same_srv_rate</th>\n",
       "      <td>125973.0</td>\n",
       "      <td>0.521242</td>\n",
       "      <td>4.489494e-01</td>\n",
       "      <td>0.0</td>\n",
       "      <td>0.05</td>\n",
       "      <td>0.51</td>\n",
       "      <td>1.00</td>\n",
       "      <td>1.000000e+00</td>\n",
       "    </tr>\n",
       "    <tr>\n",
       "      <th>rerror_rate</th>\n",
       "      <td>125973.0</td>\n",
       "      <td>0.119958</td>\n",
       "      <td>3.204355e-01</td>\n",
       "      <td>0.0</td>\n",
       "      <td>0.00</td>\n",
       "      <td>0.00</td>\n",
       "      <td>0.00</td>\n",
       "      <td>1.000000e+00</td>\n",
       "    </tr>\n",
       "    <tr>\n",
       "      <th>dst_host_serror_rate</th>\n",
       "      <td>125973.0</td>\n",
       "      <td>0.284452</td>\n",
       "      <td>4.447841e-01</td>\n",
       "      <td>0.0</td>\n",
       "      <td>0.00</td>\n",
       "      <td>0.00</td>\n",
       "      <td>1.00</td>\n",
       "      <td>1.000000e+00</td>\n",
       "    </tr>\n",
       "    <tr>\n",
       "      <th>duration</th>\n",
       "      <td>125973.0</td>\n",
       "      <td>287.144650</td>\n",
       "      <td>2.604515e+03</td>\n",
       "      <td>0.0</td>\n",
       "      <td>0.00</td>\n",
       "      <td>0.00</td>\n",
       "      <td>0.00</td>\n",
       "      <td>4.290800e+04</td>\n",
       "    </tr>\n",
       "    <tr>\n",
       "      <th>dst_host_srv_diff_host_rate</th>\n",
       "      <td>125973.0</td>\n",
       "      <td>0.032542</td>\n",
       "      <td>1.125638e-01</td>\n",
       "      <td>0.0</td>\n",
       "      <td>0.00</td>\n",
       "      <td>0.00</td>\n",
       "      <td>0.02</td>\n",
       "      <td>1.000000e+00</td>\n",
       "    </tr>\n",
       "    <tr>\n",
       "      <th>num_compromised</th>\n",
       "      <td>125973.0</td>\n",
       "      <td>0.279250</td>\n",
       "      <td>2.394204e+01</td>\n",
       "      <td>0.0</td>\n",
       "      <td>0.00</td>\n",
       "      <td>0.00</td>\n",
       "      <td>0.00</td>\n",
       "      <td>7.479000e+03</td>\n",
       "    </tr>\n",
       "    <tr>\n",
       "      <th>num_root</th>\n",
       "      <td>125973.0</td>\n",
       "      <td>0.302192</td>\n",
       "      <td>2.439962e+01</td>\n",
       "      <td>0.0</td>\n",
       "      <td>0.00</td>\n",
       "      <td>0.00</td>\n",
       "      <td>0.00</td>\n",
       "      <td>7.468000e+03</td>\n",
       "    </tr>\n",
       "    <tr>\n",
       "      <th>dst_host_srv_serror_rate</th>\n",
       "      <td>125973.0</td>\n",
       "      <td>0.278485</td>\n",
       "      <td>4.456691e-01</td>\n",
       "      <td>0.0</td>\n",
       "      <td>0.00</td>\n",
       "      <td>0.00</td>\n",
       "      <td>1.00</td>\n",
       "      <td>1.000000e+00</td>\n",
       "    </tr>\n",
       "    <tr>\n",
       "      <th>same_srv_rate</th>\n",
       "      <td>125973.0</td>\n",
       "      <td>0.660928</td>\n",
       "      <td>4.396229e-01</td>\n",
       "      <td>0.0</td>\n",
       "      <td>0.09</td>\n",
       "      <td>1.00</td>\n",
       "      <td>1.00</td>\n",
       "      <td>1.000000e+00</td>\n",
       "    </tr>\n",
       "    <tr>\n",
       "      <th>wrong_fragment</th>\n",
       "      <td>125973.0</td>\n",
       "      <td>0.022687</td>\n",
       "      <td>2.535300e-01</td>\n",
       "      <td>0.0</td>\n",
       "      <td>0.00</td>\n",
       "      <td>0.00</td>\n",
       "      <td>0.00</td>\n",
       "      <td>3.000000e+00</td>\n",
       "    </tr>\n",
       "    <tr>\n",
       "      <th>num_shells</th>\n",
       "      <td>125973.0</td>\n",
       "      <td>0.000413</td>\n",
       "      <td>2.218113e-02</td>\n",
       "      <td>0.0</td>\n",
       "      <td>0.00</td>\n",
       "      <td>0.00</td>\n",
       "      <td>0.00</td>\n",
       "      <td>2.000000e+00</td>\n",
       "    </tr>\n",
       "    <tr>\n",
       "      <th>srv_serror_rate</th>\n",
       "      <td>125973.0</td>\n",
       "      <td>0.282485</td>\n",
       "      <td>4.470225e-01</td>\n",
       "      <td>0.0</td>\n",
       "      <td>0.00</td>\n",
       "      <td>0.00</td>\n",
       "      <td>1.00</td>\n",
       "      <td>1.000000e+00</td>\n",
       "    </tr>\n",
       "    <tr>\n",
       "      <th>diff_srv_rate</th>\n",
       "      <td>125973.0</td>\n",
       "      <td>0.063053</td>\n",
       "      <td>1.803144e-01</td>\n",
       "      <td>0.0</td>\n",
       "      <td>0.00</td>\n",
       "      <td>0.00</td>\n",
       "      <td>0.06</td>\n",
       "      <td>1.000000e+00</td>\n",
       "    </tr>\n",
       "  </tbody>\n",
       "</table>\n",
       "</div>"
      ],
      "text/plain": [
       "                                count          mean           std  min    25%  \\\n",
       "srv_count                    125973.0     27.737888  7.263584e+01  0.0   2.00   \n",
       "dst_host_rerror_rate         125973.0      0.118832  3.065575e-01  0.0   0.00   \n",
       "srv_diff_host_rate           125973.0      0.097322  2.598305e-01  0.0   0.00   \n",
       "srv_rerror_rate              125973.0      0.121183  3.236472e-01  0.0   0.00   \n",
       "count                        125973.0     84.107555  1.145086e+02  0.0   2.00   \n",
       "hot                          125973.0      0.204409  2.149968e+00  0.0   0.00   \n",
       "urgent                       125973.0      0.000111  1.436603e-02  0.0   0.00   \n",
       "num_failed_logins            125973.0      0.001222  4.523914e-02  0.0   0.00   \n",
       "dst_host_same_src_port_rate  125973.0      0.148379  3.089971e-01  0.0   0.00   \n",
       "dst_host_srv_count           125973.0    115.653005  1.107027e+02  0.0  10.00   \n",
       "serror_rate                  125973.0      0.284485  4.464556e-01  0.0   0.00   \n",
       "num_access_files             125973.0      0.004096  9.936956e-02  0.0   0.00   \n",
       "src_bytes                    125973.0  45566.743000  5.870331e+06  0.0   0.00   \n",
       "dst_host_diff_srv_rate       125973.0      0.082951  1.889218e-01  0.0   0.00   \n",
       "dst_bytes                    125973.0  19779.114421  4.021269e+06  0.0   0.00   \n",
       "dst_host_count               125973.0    182.148945  9.920621e+01  0.0  82.00   \n",
       "num_file_creations           125973.0      0.012669  4.839351e-01  0.0   0.00   \n",
       "dst_host_srv_rerror_rate     125973.0      0.120240  3.194594e-01  0.0   0.00   \n",
       "dst_host_same_srv_rate       125973.0      0.521242  4.489494e-01  0.0   0.05   \n",
       "rerror_rate                  125973.0      0.119958  3.204355e-01  0.0   0.00   \n",
       "dst_host_serror_rate         125973.0      0.284452  4.447841e-01  0.0   0.00   \n",
       "duration                     125973.0    287.144650  2.604515e+03  0.0   0.00   \n",
       "dst_host_srv_diff_host_rate  125973.0      0.032542  1.125638e-01  0.0   0.00   \n",
       "num_compromised              125973.0      0.279250  2.394204e+01  0.0   0.00   \n",
       "num_root                     125973.0      0.302192  2.439962e+01  0.0   0.00   \n",
       "dst_host_srv_serror_rate     125973.0      0.278485  4.456691e-01  0.0   0.00   \n",
       "same_srv_rate                125973.0      0.660928  4.396229e-01  0.0   0.09   \n",
       "wrong_fragment               125973.0      0.022687  2.535300e-01  0.0   0.00   \n",
       "num_shells                   125973.0      0.000413  2.218113e-02  0.0   0.00   \n",
       "srv_serror_rate              125973.0      0.282485  4.470225e-01  0.0   0.00   \n",
       "diff_srv_rate                125973.0      0.063053  1.803144e-01  0.0   0.00   \n",
       "\n",
       "                                50%     75%           max  \n",
       "srv_count                      8.00   18.00  5.110000e+02  \n",
       "dst_host_rerror_rate           0.00    0.00  1.000000e+00  \n",
       "srv_diff_host_rate             0.00    0.00  1.000000e+00  \n",
       "srv_rerror_rate                0.00    0.00  1.000000e+00  \n",
       "count                         14.00  143.00  5.110000e+02  \n",
       "hot                            0.00    0.00  7.700000e+01  \n",
       "urgent                         0.00    0.00  3.000000e+00  \n",
       "num_failed_logins              0.00    0.00  5.000000e+00  \n",
       "dst_host_same_src_port_rate    0.00    0.06  1.000000e+00  \n",
       "dst_host_srv_count            63.00  255.00  2.550000e+02  \n",
       "serror_rate                    0.00    1.00  1.000000e+00  \n",
       "num_access_files               0.00    0.00  9.000000e+00  \n",
       "src_bytes                     44.00  276.00  1.379964e+09  \n",
       "dst_host_diff_srv_rate         0.02    0.07  1.000000e+00  \n",
       "dst_bytes                      0.00  516.00  1.309937e+09  \n",
       "dst_host_count               255.00  255.00  2.550000e+02  \n",
       "num_file_creations             0.00    0.00  4.300000e+01  \n",
       "dst_host_srv_rerror_rate       0.00    0.00  1.000000e+00  \n",
       "dst_host_same_srv_rate         0.51    1.00  1.000000e+00  \n",
       "rerror_rate                    0.00    0.00  1.000000e+00  \n",
       "dst_host_serror_rate           0.00    1.00  1.000000e+00  \n",
       "duration                       0.00    0.00  4.290800e+04  \n",
       "dst_host_srv_diff_host_rate    0.00    0.02  1.000000e+00  \n",
       "num_compromised                0.00    0.00  7.479000e+03  \n",
       "num_root                       0.00    0.00  7.468000e+03  \n",
       "dst_host_srv_serror_rate       0.00    1.00  1.000000e+00  \n",
       "same_srv_rate                  1.00    1.00  1.000000e+00  \n",
       "wrong_fragment                 0.00    0.00  3.000000e+00  \n",
       "num_shells                     0.00    0.00  2.000000e+00  \n",
       "srv_serror_rate                0.00    1.00  1.000000e+00  \n",
       "diff_srv_rate                  0.00    0.06  1.000000e+00  "
      ]
     },
     "execution_count": 227,
     "metadata": {},
     "output_type": "execute_result"
    }
   ],
   "source": [
    "train_dset[numerical_features].describe().transpose()"
   ]
  },
  {
   "cell_type": "markdown",
   "metadata": {},
   "source": [
    "<h2> Data preparation and cleaning </h2>\n",
    "    \n",
    "1.create dictionary for attack categories\n",
    "2. create functions for mapping categories to labels\n"
   ]
  },
  {
   "cell_type": "code",
   "execution_count": 228,
   "metadata": {},
   "outputs": [],
   "source": [
    "#dictionary for attack categories\n",
    "attack_map={\n",
    "    \"apache2\":\"dos\",\n",
    "     \"back\":\"dos\",\n",
    "    \"buffer_overflow\" : \"privilege_escalation\",\n",
    "    \"ftp_write\" : \"remote_access\",\n",
    "    \"guess_passwd\" : \"remote_access\",\n",
    "    \"httptunnel\":\"remote_access\",\n",
    "    \"imap\" : \"remote_access\",\n",
    "    \"ipsweep\": \"probe\",\n",
    "    'land': \"dos\",\n",
    "    \"loadmodule\": \"privilege_escalation\",\n",
    "    \"mailbomb\":\"dos\",\n",
    "    \"mscan\":\"probe\",\n",
    "    \"multihop\" :\"remote_access\",\n",
    "    \"named\": \"remote_access\",\n",
    "    'neptune': \"dos\",\n",
    "    \"nmap\": \"probe\",\n",
    "    \"perl\" : \"privilege_escalation\",\n",
    "    \"phf\" : \"remote_access\",\n",
    "    \"pod\": \"dos\",\n",
    "    \"portsweep\": \"probe\",\n",
    "    \"ps\" : \"privilege_escalation\",\n",
    "    \"rootkit\" : \"privilege_escalation\",\n",
    "    \"saint\":\"probe\",\n",
    "    \"satan\": \"probe\",\n",
    "    \"sendmail\":\"remote_access\",\n",
    "    \"smurf\": \"dos\",\n",
    "    \"snmpgetattack\":\"remote_access\",\n",
    "    \"snmpguess\":\"remote_access\",\n",
    "    \"spy\": \"remote_access\",\n",
    "    \"sqlattack\" : \"privilege_escalation\",\n",
    "    \"teardrop\": \"dos\",\n",
    "    \"warezclient\": \"remote_access\",\n",
    "    \"warezmaster\" : \"remote_access\",\n",
    "    \"worm\":\"dos\",\n",
    "    \"udpstorm\":\"dos\",\n",
    "    \"normal\":\"benign\",\n",
    "    \"processtable\":\"dos\",\n",
    "    \"xclock\":\"remote_access\",\n",
    "    \"xlock\":\"remote_access\",\n",
    "    \"xsnoop\":\"remote_access\",\n",
    "    \"xterm\":\"privilege_escalation\"\n",
    "}\n",
    "train_dset['attack_category_gen'] = train_dset['attack_type'].map(lambda x: attack_map[x])\n",
    "test_dset['attack_category_gen'] = test_dset['attack_type'].map(lambda x: attack_map[x])\n",
    "#if not normal classify as attack (binary classification)\n",
    "def isMalicious(x):\n",
    "    if (x==\"normal\"):\n",
    "        return 0\n",
    "    else:\n",
    "        return 1\n",
    "train_dset[\"malicious\"]=train_dset['attack_type'].apply(lambda row: isMalicious(row))\n",
    "test_dset[\"malicious\"]=test_dset['attack_type'].apply(lambda row: isMalicious(row))"
   ]
  },
  {
   "cell_type": "code",
   "execution_count": 172,
   "metadata": {},
   "outputs": [
    {
     "data": {
      "text/plain": [
       "0    67264\n",
       "2       59\n",
       "1       20\n",
       "Name: su_attempted, dtype: int64"
      ]
     },
     "execution_count": 172,
     "metadata": {},
     "output_type": "execute_result"
    }
   ],
   "source": [
    "test_df=pd.DataFrame(train_dset[train_dset.attack_type==\"normal\"])\n",
    "test_df.su_attempted.value_counts()"
   ]
  },
  {
   "cell_type": "code",
   "execution_count": 229,
   "metadata": {},
   "outputs": [
    {
     "name": "stdout",
     "output_type": "stream",
     "text": [
      "<class 'pandas.core.frame.DataFrame'>\n",
      "RangeIndex: 125973 entries, 0 to 125972\n",
      "Data columns (total 45 columns):\n",
      " #   Column                       Non-Null Count   Dtype  \n",
      "---  ------                       --------------   -----  \n",
      " 0   duration                     125973 non-null  int64  \n",
      " 1   protocol_type                125973 non-null  object \n",
      " 2   service                      125973 non-null  object \n",
      " 3   flag                         125973 non-null  object \n",
      " 4   src_bytes                    125973 non-null  int64  \n",
      " 5   dst_bytes                    125973 non-null  int64  \n",
      " 6   land                         125973 non-null  int64  \n",
      " 7   wrong_fragment               125973 non-null  int64  \n",
      " 8   urgent                       125973 non-null  int64  \n",
      " 9   hot                          125973 non-null  int64  \n",
      " 10  num_failed_logins            125973 non-null  int64  \n",
      " 11  logged_in                    125973 non-null  int64  \n",
      " 12  num_compromised              125973 non-null  int64  \n",
      " 13  root_shell                   125973 non-null  int64  \n",
      " 14  su_attempted                 125973 non-null  int64  \n",
      " 15  num_root                     125973 non-null  int64  \n",
      " 16  num_file_creations           125973 non-null  int64  \n",
      " 17  num_shells                   125973 non-null  int64  \n",
      " 18  num_access_files             125973 non-null  int64  \n",
      " 19  num_outbound_cmds            125973 non-null  int64  \n",
      " 20  is_host_login                125973 non-null  int64  \n",
      " 21  is_guest_login               125973 non-null  int64  \n",
      " 22  count                        125973 non-null  int64  \n",
      " 23  srv_count                    125973 non-null  int64  \n",
      " 24  serror_rate                  125973 non-null  float64\n",
      " 25  srv_serror_rate              125973 non-null  float64\n",
      " 26  rerror_rate                  125973 non-null  float64\n",
      " 27  srv_rerror_rate              125973 non-null  float64\n",
      " 28  same_srv_rate                125973 non-null  float64\n",
      " 29  diff_srv_rate                125973 non-null  float64\n",
      " 30  srv_diff_host_rate           125973 non-null  float64\n",
      " 31  dst_host_count               125973 non-null  int64  \n",
      " 32  dst_host_srv_count           125973 non-null  int64  \n",
      " 33  dst_host_same_srv_rate       125973 non-null  float64\n",
      " 34  dst_host_diff_srv_rate       125973 non-null  float64\n",
      " 35  dst_host_same_src_port_rate  125973 non-null  float64\n",
      " 36  dst_host_srv_diff_host_rate  125973 non-null  float64\n",
      " 37  dst_host_serror_rate         125973 non-null  float64\n",
      " 38  dst_host_srv_serror_rate     125973 non-null  float64\n",
      " 39  dst_host_rerror_rate         125973 non-null  float64\n",
      " 40  dst_host_srv_rerror_rate     125973 non-null  float64\n",
      " 41  attack_type                  125973 non-null  object \n",
      " 42  success_pred                 125973 non-null  int64  \n",
      " 43  attack_category_gen          125973 non-null  object \n",
      " 44  malicious                    125973 non-null  int64  \n",
      "dtypes: float64(15), int64(25), object(5)\n",
      "memory usage: 43.2+ MB\n"
     ]
    }
   ],
   "source": [
    "train_dset.info()"
   ]
  },
  {
   "cell_type": "markdown",
   "metadata": {},
   "source": [
    "<b>Remove unnecessary data and correct weird values</b>"
   ]
  },
  {
   "cell_type": "code",
   "execution_count": 230,
   "metadata": {},
   "outputs": [],
   "source": [
    "#drop unnecessary column\n",
    "train_dset.drop(columns=['success_pred'],inplace=True)\n",
    "test_dset.drop(columns=['success_pred'],inplace=True)\n",
    "#correct values of su_attempted columns\n",
    "train_dset.su_attempted.value_counts()\n",
    "#correcting 2 to be 0 as it is present only for benign samples\n",
    "train_dset[train_dset.su_attempted==2].groupby(['attack_category_gen']).size()\n",
    "train_dset.su_attempted.replace(2,0,inplace=True)\n",
    "#num_outbound_cmd values are all 0 so I discard this useless feature\n",
    "train_dset.num_outbound_cmds.value_counts()\n",
    "train_dset.drop(columns=['num_outbound_cmds'],inplace=True)\n",
    "test_dset.drop(columns=['num_outbound_cmds'],inplace=True)"
   ]
  },
  {
   "cell_type": "code",
   "execution_count": 231,
   "metadata": {},
   "outputs": [
    {
     "data": {
      "text/plain": [
       "['duration',\n",
       " 'protocol_type',\n",
       " 'service',\n",
       " 'flag',\n",
       " 'src_bytes',\n",
       " 'dst_bytes',\n",
       " 'land',\n",
       " 'wrong_fragment',\n",
       " 'urgent',\n",
       " 'hot',\n",
       " 'num_failed_logins',\n",
       " 'logged_in',\n",
       " 'num_compromised',\n",
       " 'root_shell',\n",
       " 'su_attempted',\n",
       " 'num_root',\n",
       " 'num_file_creations',\n",
       " 'num_shells',\n",
       " 'num_access_files',\n",
       " 'is_host_login',\n",
       " 'is_guest_login',\n",
       " 'count',\n",
       " 'srv_count',\n",
       " 'serror_rate',\n",
       " 'srv_serror_rate',\n",
       " 'rerror_rate',\n",
       " 'srv_rerror_rate',\n",
       " 'same_srv_rate',\n",
       " 'diff_srv_rate',\n",
       " 'srv_diff_host_rate',\n",
       " 'dst_host_count',\n",
       " 'dst_host_srv_count',\n",
       " 'dst_host_same_srv_rate',\n",
       " 'dst_host_diff_srv_rate',\n",
       " 'dst_host_same_src_port_rate',\n",
       " 'dst_host_srv_diff_host_rate',\n",
       " 'dst_host_serror_rate',\n",
       " 'dst_host_srv_serror_rate',\n",
       " 'dst_host_rerror_rate',\n",
       " 'dst_host_srv_rerror_rate',\n",
       " 'attack_type']"
      ]
     },
     "execution_count": 231,
     "metadata": {},
     "output_type": "execute_result"
    }
   ],
   "source": [
    "#remove unnecessary columns from feature list\n",
    "features.remove('success_pred')\n",
    "features.remove('num_outbound_cmds')\n",
    "features"
   ]
  },
  {
   "cell_type": "code",
   "execution_count": 232,
   "metadata": {},
   "outputs": [
    {
     "name": "stdout",
     "output_type": "stream",
     "text": [
      "(22544, 43)\n",
      "(125973, 43)\n"
     ]
    },
    {
     "data": {
      "text/plain": [
       "array(['dos', 'benign', 'probe', 'remote_access', 'privilege_escalation'],\n",
       "      dtype=object)"
      ]
     },
     "execution_count": 232,
     "metadata": {},
     "output_type": "execute_result"
    }
   ],
   "source": [
    "\n",
    "print(np.shape(test_dset))\n",
    "print(np.shape(train_dset))\n",
    "categories=test_dset.attack_category_gen.unique()\n",
    "categories"
   ]
  },
  {
   "cell_type": "code",
   "execution_count": 115,
   "metadata": {},
   "outputs": [
    {
     "data": {
      "text/plain": [
       "84.82059292875563"
      ]
     },
     "execution_count": 115,
     "metadata": {},
     "output_type": "execute_result"
    }
   ],
   "source": [
    "sm=125973+22544\n",
    "22544/sm*100\n",
    "125973/sm*100"
   ]
  },
  {
   "cell_type": "code",
   "execution_count": 13,
   "metadata": {},
   "outputs": [
    {
     "data": {
      "text/plain": [
       "normal             67343\n",
       "neptune            41214\n",
       "satan               3633\n",
       "ipsweep             3599\n",
       "portsweep           2931\n",
       "smurf               2646\n",
       "nmap                1493\n",
       "back                 956\n",
       "teardrop             892\n",
       "warezclient          890\n",
       "pod                  201\n",
       "guess_passwd          53\n",
       "buffer_overflow       30\n",
       "warezmaster           20\n",
       "land                  18\n",
       "imap                  11\n",
       "rootkit               10\n",
       "loadmodule             9\n",
       "ftp_write              8\n",
       "multihop               7\n",
       "phf                    4\n",
       "perl                   3\n",
       "spy                    2\n",
       "Name: attack_type, dtype: int64"
      ]
     },
     "execution_count": 13,
     "metadata": {},
     "output_type": "execute_result"
    }
   ],
   "source": [
    "train_attack_types=train_dset.attack_type.value_counts()\n",
    "train_attack_types"
   ]
  },
  {
   "cell_type": "code",
   "execution_count": 141,
   "metadata": {},
   "outputs": [],
   "source": [
    "test_attack_types=test_dset.attack_type.value_counts()"
   ]
  },
  {
   "cell_type": "code",
   "execution_count": 147,
   "metadata": {},
   "outputs": [
    {
     "data": {
      "text/plain": [
       "<matplotlib.axes._subplots.AxesSubplot at 0x2788b8c3550>"
      ]
     },
     "execution_count": 147,
     "metadata": {},
     "output_type": "execute_result"
    },
    {
     "data": {
      "image/png": "[encoded data removed]",
      "text/plain": [
       "<Figure size 864x576 with 1 Axes>"
      ]
     },
     "metadata": {
      "needs_background": "light"
     },
     "output_type": "display_data"
    }
   ],
   "source": [
    "train_attack_types.plot(kind='barh',figsize=(12,8), fontsize=12)"
   ]
  },
  {
   "cell_type": "code",
   "execution_count": 146,
   "metadata": {},
   "outputs": [
    {
     "data": {
      "text/plain": [
       "<matplotlib.axes._subplots.AxesSubplot at 0x2788af58640>"
      ]
     },
     "execution_count": 146,
     "metadata": {},
     "output_type": "execute_result"
    },
    {
     "data": {
      "image/png": "[encoded data removed]",
      "text/plain": [
       "<Figure size 864x576 with 1 Axes>"
      ]
     },
     "metadata": {
      "needs_background": "light"
     },
     "output_type": "display_data"
    }
   ],
   "source": [
    "test_attack_types.plot(kind='barh',figsize=(12,8), fontsize=12,color='green')"
   ]
  },
  {
   "cell_type": "code",
   "execution_count": 107,
   "metadata": {},
   "outputs": [
    {
     "data": {
      "image/png": "[encoded data removed]",
      "text/plain": [
       "<Figure size 432x288 with 1 Axes>"
      ]
     },
     "metadata": {},
     "output_type": "display_data"
    }
   ],
   "source": [
    "# Pie chart showing contents of test daatset:\n",
    "malicious_test=len(test_labels_binary[test_labels_binary==1])*100/len(test_labels_binary)\n",
    "benign_test = len(test_labels_binary[test_labels_binary==0])*100/len(test_labels_binary)\n",
    "labels = 'benign', 'malicious'\n",
    "sizes = [benign_test, malicious_test]\n",
    "explode = (0, 0.1)  # only \"explode\" the 2nd slice (i.e. 'Hogs')\n",
    "\n",
    "fig1, ax1 = plt.subplots()\n",
    "ax1.pie(sizes, explode=explode, labels=labels, autopct='%1.1f%%',\n",
    "        shadow=True, startangle=90)\n",
    "ax1.axis('equal')  # Equal aspect ratio ensures that pie is drawn as a circle.\n",
    "\n",
    "plt.show()\n",
    " "
   ]
  },
  {
   "cell_type": "code",
   "execution_count": 154,
   "metadata": {},
   "outputs": [
    {
     "data": {
      "text/plain": [
       "58630"
      ]
     },
     "execution_count": 154,
     "metadata": {},
     "output_type": "execute_result"
    }
   ],
   "source": [
    "len(labels_binary[labels_binary==1])"
   ]
  },
  {
   "cell_type": "code",
   "execution_count": 110,
   "metadata": {},
   "outputs": [
    {
     "data": {
      "image/png": "[encoded data removed]",
      "text/plain": [
       "<Figure size 432x288 with 1 Axes>"
      ]
     },
     "metadata": {},
     "output_type": "display_data"
    }
   ],
   "source": [
    "# Pie chart showing contents of train dataset:\n",
    "malicious_train=len(labels_binary[labels_binary==1])*100/len(labels_binary)\n",
    "benign_train = len(labels_binary[labels_binary==0])*100/len(labels_binary)\n",
    "sizes = [benign_train, malicious_train]\n",
    "explode = (0, 0.1)  # \n",
    "\n",
    "fig1, ax1 = plt.subplots()\n",
    "ax1.pie(sizes, explode=explode, labels=labels, autopct='%1.1f%%',\n",
    "        shadow=True, startangle=90)\n",
    "ax1.axis('equal')  # Equal aspect ratio ensures that pie is drawn as a circle.\n",
    "\n",
    "plt.show()\n",
    " "
   ]
  },
  {
   "cell_type": "code",
   "execution_count": null,
   "metadata": {},
   "outputs": [],
   "source": []
  },
  {
   "cell_type": "code",
   "execution_count": 273,
   "metadata": {},
   "outputs": [
    {
     "data": {
      "text/plain": [
       "<matplotlib.axes._subplots.AxesSubplot at 0x278a42e3d30>"
      ]
     },
     "execution_count": 273,
     "metadata": {},
     "output_type": "execute_result"
    },
    {
     "data": {
      "image/png": "[encoded data removed]",
      "text/plain": [
       "<Figure size 432x216 with 1 Axes>"
      ]
     },
     "metadata": {
      "needs_background": "light"
     },
     "output_type": "display_data"
    }
   ],
   "source": [
    "#train dataset attack types\n",
    "labels_category.value_counts().plot(kind='barh',figsize=(6,3), fontsize=12,color='red')"
   ]
  },
  {
   "cell_type": "code",
   "execution_count": 275,
   "metadata": {},
   "outputs": [
    {
     "data": {
      "text/plain": [
       "<matplotlib.axes._subplots.AxesSubplot at 0x278a53022b0>"
      ]
     },
     "execution_count": 275,
     "metadata": {},
     "output_type": "execute_result"
    },
    {
     "data": {
      "image/png": "[encoded data removed]",
      "text/plain": [
       "<Figure size 432x216 with 1 Axes>"
      ]
     },
     "metadata": {
      "needs_background": "light"
     },
     "output_type": "display_data"
    }
   ],
   "source": [
    "#test dataset attack types\n",
    "test_labels_category.value_counts().plot(kind='barh',figsize=(6,3), fontsize=12,color='purple')"
   ]
  },
  {
   "cell_type": "markdown",
   "metadata": {},
   "source": [
    "<h2>Feature engineering</h2>\n",
    "1. categorize features\n",
    "2. scaling numerical features\n",
    "3. encoding nominal features"
   ]
  },
  {
   "cell_type": "code",
   "execution_count": 233,
   "metadata": {},
   "outputs": [],
   "source": [
    "labels=['malicious','attack_cat_gen','attack_type','attack_category_gen']\n",
    "nominal_features=['protocol_type','service','flag']\n",
    "binary_features = ['land','logged_in','root_shell','su_attempted','is_host_login','is_guest_login']\n",
    " #a set of continuous(numerical)  features\n",
    "numerical_features=list(set(features) - set(binary_features)-set(nominal_features)-set(labels))\n",
    "\n"
   ]
  },
  {
   "cell_type": "code",
   "execution_count": 178,
   "metadata": {},
   "outputs": [
    {
     "data": {
      "text/html": [
       "<div>\n",
       "<style scoped>\n",
       "    .dataframe tbody tr th:only-of-type {\n",
       "        vertical-align: middle;\n",
       "    }\n",
       "\n",
       "    .dataframe tbody tr th {\n",
       "        vertical-align: top;\n",
       "    }\n",
       "\n",
       "    .dataframe thead th {\n",
       "        text-align: right;\n",
       "    }\n",
       "</style>\n",
       "<table border=\"1\" class=\"dataframe\">\n",
       "  <thead>\n",
       "    <tr style=\"text-align: right;\">\n",
       "      <th></th>\n",
       "      <th>srv_count</th>\n",
       "      <th>dst_host_rerror_rate</th>\n",
       "      <th>srv_diff_host_rate</th>\n",
       "      <th>srv_rerror_rate</th>\n",
       "      <th>count</th>\n",
       "      <th>hot</th>\n",
       "      <th>urgent</th>\n",
       "      <th>num_failed_logins</th>\n",
       "      <th>dst_host_same_src_port_rate</th>\n",
       "      <th>dst_host_srv_count</th>\n",
       "      <th>...</th>\n",
       "      <th>duration</th>\n",
       "      <th>dst_host_srv_diff_host_rate</th>\n",
       "      <th>num_compromised</th>\n",
       "      <th>num_root</th>\n",
       "      <th>dst_host_srv_serror_rate</th>\n",
       "      <th>same_srv_rate</th>\n",
       "      <th>wrong_fragment</th>\n",
       "      <th>num_shells</th>\n",
       "      <th>srv_serror_rate</th>\n",
       "      <th>diff_srv_rate</th>\n",
       "    </tr>\n",
       "  </thead>\n",
       "  <tbody>\n",
       "    <tr>\n",
       "      <th>count</th>\n",
       "      <td>1.259730e+05</td>\n",
       "      <td>1.259730e+05</td>\n",
       "      <td>1.259730e+05</td>\n",
       "      <td>1.259730e+05</td>\n",
       "      <td>1.259730e+05</td>\n",
       "      <td>1.259730e+05</td>\n",
       "      <td>1.259730e+05</td>\n",
       "      <td>1.259730e+05</td>\n",
       "      <td>1.259730e+05</td>\n",
       "      <td>1.259730e+05</td>\n",
       "      <td>...</td>\n",
       "      <td>1.259730e+05</td>\n",
       "      <td>1.259730e+05</td>\n",
       "      <td>1.259730e+05</td>\n",
       "      <td>1.259730e+05</td>\n",
       "      <td>1.259730e+05</td>\n",
       "      <td>1.259730e+05</td>\n",
       "      <td>1.259730e+05</td>\n",
       "      <td>1.259730e+05</td>\n",
       "      <td>1.259730e+05</td>\n",
       "      <td>1.259730e+05</td>\n",
       "    </tr>\n",
       "    <tr>\n",
       "      <th>mean</th>\n",
       "      <td>-2.935662e-16</td>\n",
       "      <td>1.151483e-15</td>\n",
       "      <td>-1.635145e-16</td>\n",
       "      <td>-1.776395e-15</td>\n",
       "      <td>6.387398e-16</td>\n",
       "      <td>-7.629865e-15</td>\n",
       "      <td>3.109539e-15</td>\n",
       "      <td>8.220883e-16</td>\n",
       "      <td>-2.412371e-16</td>\n",
       "      <td>-2.917645e-15</td>\n",
       "      <td>...</td>\n",
       "      <td>3.916911e-16</td>\n",
       "      <td>-1.443535e-15</td>\n",
       "      <td>-2.468094e-15</td>\n",
       "      <td>-2.203772e-15</td>\n",
       "      <td>-4.449642e-15</td>\n",
       "      <td>-4.595268e-15</td>\n",
       "      <td>9.708754e-16</td>\n",
       "      <td>-2.445992e-16</td>\n",
       "      <td>4.730987e-15</td>\n",
       "      <td>2.934935e-16</td>\n",
       "    </tr>\n",
       "    <tr>\n",
       "      <th>std</th>\n",
       "      <td>1.000004e+00</td>\n",
       "      <td>1.000004e+00</td>\n",
       "      <td>1.000004e+00</td>\n",
       "      <td>1.000004e+00</td>\n",
       "      <td>1.000004e+00</td>\n",
       "      <td>1.000004e+00</td>\n",
       "      <td>1.000004e+00</td>\n",
       "      <td>1.000004e+00</td>\n",
       "      <td>1.000004e+00</td>\n",
       "      <td>1.000004e+00</td>\n",
       "      <td>...</td>\n",
       "      <td>1.000004e+00</td>\n",
       "      <td>1.000004e+00</td>\n",
       "      <td>1.000004e+00</td>\n",
       "      <td>1.000004e+00</td>\n",
       "      <td>1.000004e+00</td>\n",
       "      <td>1.000004e+00</td>\n",
       "      <td>1.000004e+00</td>\n",
       "      <td>1.000004e+00</td>\n",
       "      <td>1.000004e+00</td>\n",
       "      <td>1.000004e+00</td>\n",
       "    </tr>\n",
       "    <tr>\n",
       "      <th>min</th>\n",
       "      <td>-3.818776e-01</td>\n",
       "      <td>-3.876346e-01</td>\n",
       "      <td>-3.745597e-01</td>\n",
       "      <td>-3.744316e-01</td>\n",
       "      <td>-7.345115e-01</td>\n",
       "      <td>-9.507567e-02</td>\n",
       "      <td>-7.735985e-03</td>\n",
       "      <td>-2.702282e-02</td>\n",
       "      <td>-4.801968e-01</td>\n",
       "      <td>-1.044721e+00</td>\n",
       "      <td>...</td>\n",
       "      <td>-1.102492e-01</td>\n",
       "      <td>-2.891034e-01</td>\n",
       "      <td>-1.166364e-02</td>\n",
       "      <td>-1.238515e-02</td>\n",
       "      <td>-6.248708e-01</td>\n",
       "      <td>-1.503403e+00</td>\n",
       "      <td>-8.948642e-02</td>\n",
       "      <td>-1.860990e-02</td>\n",
       "      <td>-6.319290e-01</td>\n",
       "      <td>-3.496830e-01</td>\n",
       "    </tr>\n",
       "    <tr>\n",
       "      <th>25%</th>\n",
       "      <td>-3.543429e-01</td>\n",
       "      <td>-3.876346e-01</td>\n",
       "      <td>-3.745597e-01</td>\n",
       "      <td>-3.744316e-01</td>\n",
       "      <td>-7.170455e-01</td>\n",
       "      <td>-9.507567e-02</td>\n",
       "      <td>-7.735985e-03</td>\n",
       "      <td>-2.702282e-02</td>\n",
       "      <td>-4.801968e-01</td>\n",
       "      <td>-9.543885e-01</td>\n",
       "      <td>...</td>\n",
       "      <td>-1.102492e-01</td>\n",
       "      <td>-2.891034e-01</td>\n",
       "      <td>-1.166364e-02</td>\n",
       "      <td>-1.238515e-02</td>\n",
       "      <td>-6.248708e-01</td>\n",
       "      <td>-1.298681e+00</td>\n",
       "      <td>-8.948642e-02</td>\n",
       "      <td>-1.860990e-02</td>\n",
       "      <td>-6.319290e-01</td>\n",
       "      <td>-3.496830e-01</td>\n",
       "    </tr>\n",
       "    <tr>\n",
       "      <th>50%</th>\n",
       "      <td>-2.717387e-01</td>\n",
       "      <td>-3.876346e-01</td>\n",
       "      <td>-3.745597e-01</td>\n",
       "      <td>-3.744316e-01</td>\n",
       "      <td>-6.122495e-01</td>\n",
       "      <td>-9.507567e-02</td>\n",
       "      <td>-7.735985e-03</td>\n",
       "      <td>-2.702282e-02</td>\n",
       "      <td>-4.801968e-01</td>\n",
       "      <td>-4.756270e-01</td>\n",
       "      <td>...</td>\n",
       "      <td>-1.102492e-01</td>\n",
       "      <td>-2.891034e-01</td>\n",
       "      <td>-1.166364e-02</td>\n",
       "      <td>-1.238515e-02</td>\n",
       "      <td>-6.248708e-01</td>\n",
       "      <td>7.712831e-01</td>\n",
       "      <td>-8.948642e-02</td>\n",
       "      <td>-1.860990e-02</td>\n",
       "      <td>-6.319290e-01</td>\n",
       "      <td>-3.496830e-01</td>\n",
       "    </tr>\n",
       "    <tr>\n",
       "      <th>75%</th>\n",
       "      <td>-1.340650e-01</td>\n",
       "      <td>-3.876346e-01</td>\n",
       "      <td>-3.745597e-01</td>\n",
       "      <td>-3.744316e-01</td>\n",
       "      <td>5.143079e-01</td>\n",
       "      <td>-9.507567e-02</td>\n",
       "      <td>-7.735985e-03</td>\n",
       "      <td>-2.702282e-02</td>\n",
       "      <td>-2.860195e-01</td>\n",
       "      <td>1.258754e+00</td>\n",
       "      <td>...</td>\n",
       "      <td>-1.102492e-01</td>\n",
       "      <td>-1.114257e-01</td>\n",
       "      <td>-1.166364e-02</td>\n",
       "      <td>-1.238515e-02</td>\n",
       "      <td>1.618955e+00</td>\n",
       "      <td>7.712831e-01</td>\n",
       "      <td>-8.948642e-02</td>\n",
       "      <td>-1.860990e-02</td>\n",
       "      <td>1.605104e+00</td>\n",
       "      <td>-1.692960e-02</td>\n",
       "    </tr>\n",
       "    <tr>\n",
       "      <th>max</th>\n",
       "      <td>6.653245e+00</td>\n",
       "      <td>2.874410e+00</td>\n",
       "      <td>3.474118e+00</td>\n",
       "      <td>2.715365e+00</td>\n",
       "      <td>3.728053e+00</td>\n",
       "      <td>3.571955e+01</td>\n",
       "      <td>2.088191e+02</td>\n",
       "      <td>1.104972e+02</td>\n",
       "      <td>2.756092e+00</td>\n",
       "      <td>1.258754e+00</td>\n",
       "      <td>...</td>\n",
       "      <td>1.636428e+01</td>\n",
       "      <td>8.594782e+00</td>\n",
       "      <td>3.123689e+02</td>\n",
       "      <td>3.060592e+02</td>\n",
       "      <td>1.618955e+00</td>\n",
       "      <td>7.712831e-01</td>\n",
       "      <td>1.174348e+01</td>\n",
       "      <td>9.014849e+01</td>\n",
       "      <td>1.605104e+00</td>\n",
       "      <td>5.196208e+00</td>\n",
       "    </tr>\n",
       "  </tbody>\n",
       "</table>\n",
       "<p>8 rows × 31 columns</p>\n",
       "</div>"
      ],
      "text/plain": [
       "          srv_count  dst_host_rerror_rate  srv_diff_host_rate  \\\n",
       "count  1.259730e+05          1.259730e+05        1.259730e+05   \n",
       "mean  -2.935662e-16          1.151483e-15       -1.635145e-16   \n",
       "std    1.000004e+00          1.000004e+00        1.000004e+00   \n",
       "min   -3.818776e-01         -3.876346e-01       -3.745597e-01   \n",
       "25%   -3.543429e-01         -3.876346e-01       -3.745597e-01   \n",
       "50%   -2.717387e-01         -3.876346e-01       -3.745597e-01   \n",
       "75%   -1.340650e-01         -3.876346e-01       -3.745597e-01   \n",
       "max    6.653245e+00          2.874410e+00        3.474118e+00   \n",
       "\n",
       "       srv_rerror_rate         count           hot        urgent  \\\n",
       "count     1.259730e+05  1.259730e+05  1.259730e+05  1.259730e+05   \n",
       "mean     -1.776395e-15  6.387398e-16 -7.629865e-15  3.109539e-15   \n",
       "std       1.000004e+00  1.000004e+00  1.000004e+00  1.000004e+00   \n",
       "min      -3.744316e-01 -7.345115e-01 -9.507567e-02 -7.735985e-03   \n",
       "25%      -3.744316e-01 -7.170455e-01 -9.507567e-02 -7.735985e-03   \n",
       "50%      -3.744316e-01 -6.122495e-01 -9.507567e-02 -7.735985e-03   \n",
       "75%      -3.744316e-01  5.143079e-01 -9.507567e-02 -7.735985e-03   \n",
       "max       2.715365e+00  3.728053e+00  3.571955e+01  2.088191e+02   \n",
       "\n",
       "       num_failed_logins  dst_host_same_src_port_rate  dst_host_srv_count  \\\n",
       "count       1.259730e+05                 1.259730e+05        1.259730e+05   \n",
       "mean        8.220883e-16                -2.412371e-16       -2.917645e-15   \n",
       "std         1.000004e+00                 1.000004e+00        1.000004e+00   \n",
       "min        -2.702282e-02                -4.801968e-01       -1.044721e+00   \n",
       "25%        -2.702282e-02                -4.801968e-01       -9.543885e-01   \n",
       "50%        -2.702282e-02                -4.801968e-01       -4.756270e-01   \n",
       "75%        -2.702282e-02                -2.860195e-01        1.258754e+00   \n",
       "max         1.104972e+02                 2.756092e+00        1.258754e+00   \n",
       "\n",
       "       ...      duration  dst_host_srv_diff_host_rate  num_compromised  \\\n",
       "count  ...  1.259730e+05                 1.259730e+05     1.259730e+05   \n",
       "mean   ...  3.916911e-16                -1.443535e-15    -2.468094e-15   \n",
       "std    ...  1.000004e+00                 1.000004e+00     1.000004e+00   \n",
       "min    ... -1.102492e-01                -2.891034e-01    -1.166364e-02   \n",
       "25%    ... -1.102492e-01                -2.891034e-01    -1.166364e-02   \n",
       "50%    ... -1.102492e-01                -2.891034e-01    -1.166364e-02   \n",
       "75%    ... -1.102492e-01                -1.114257e-01    -1.166364e-02   \n",
       "max    ...  1.636428e+01                 8.594782e+00     3.123689e+02   \n",
       "\n",
       "           num_root  dst_host_srv_serror_rate  same_srv_rate  wrong_fragment  \\\n",
       "count  1.259730e+05              1.259730e+05   1.259730e+05    1.259730e+05   \n",
       "mean  -2.203772e-15             -4.449642e-15  -4.595268e-15    9.708754e-16   \n",
       "std    1.000004e+00              1.000004e+00   1.000004e+00    1.000004e+00   \n",
       "min   -1.238515e-02             -6.248708e-01  -1.503403e+00   -8.948642e-02   \n",
       "25%   -1.238515e-02             -6.248708e-01  -1.298681e+00   -8.948642e-02   \n",
       "50%   -1.238515e-02             -6.248708e-01   7.712831e-01   -8.948642e-02   \n",
       "75%   -1.238515e-02              1.618955e+00   7.712831e-01   -8.948642e-02   \n",
       "max    3.060592e+02              1.618955e+00   7.712831e-01    1.174348e+01   \n",
       "\n",
       "         num_shells  srv_serror_rate  diff_srv_rate  \n",
       "count  1.259730e+05     1.259730e+05   1.259730e+05  \n",
       "mean  -2.445992e-16     4.730987e-15   2.934935e-16  \n",
       "std    1.000004e+00     1.000004e+00   1.000004e+00  \n",
       "min   -1.860990e-02    -6.319290e-01  -3.496830e-01  \n",
       "25%   -1.860990e-02    -6.319290e-01  -3.496830e-01  \n",
       "50%   -1.860990e-02    -6.319290e-01  -3.496830e-01  \n",
       "75%   -1.860990e-02     1.605104e+00  -1.692960e-02  \n",
       "max    9.014849e+01     1.605104e+00   5.196208e+00  \n",
       "\n",
       "[8 rows x 31 columns]"
      ]
     },
     "execution_count": 178,
     "metadata": {},
     "output_type": "execute_result"
    }
   ],
   "source": [
    "\n",
    "train_dset[numerical_features].describe()"
   ]
  },
  {
   "cell_type": "code",
   "execution_count": 234,
   "metadata": {},
   "outputs": [],
   "source": [
    "#add scaler to numerical features\n",
    "from sklearn.preprocessing import StandardScaler\n",
    "scaler = StandardScaler().fit(train_dset[numerical_features])\n",
    "\n",
    "train_dset[numerical_features] = scaler.transform(train_dset[numerical_features])\n",
    "test_dset[numerical_features] = scaler.transform(test_dset[numerical_features])"
   ]
  },
  {
   "cell_type": "markdown",
   "metadata": {},
   "source": [
    "<h2>Classification tasks</h2>\n",
    "\n",
    "1. binary classification (benign/malicious)\n",
    "2. multiclass (categories)"
   ]
  },
  {
   "cell_type": "code",
   "execution_count": 299,
   "metadata": {},
   "outputs": [],
   "source": [
    "from sklearn.ensemble import RandomForestClassifier\n",
    "from sklearn.neighbors import KNeighborsClassifier\n",
    "from sklearn.naive_bayes import GaussianNB\n",
    "from sklearn.tree import DecisionTreeClassifier\n",
    "from sklearn.svm import LinearSVC\n",
    "\n",
    "#metrics\n",
    "from sklearn.model_selection import cross_val_score,cross_validate\n",
    "from sklearn.metrics import mean_absolute_error,zero_one_loss,accuracy_score,confusion_matrix,f1_score\n"
   ]
  },
  {
   "cell_type": "code",
   "execution_count": 235,
   "metadata": {},
   "outputs": [],
   "source": [
    "#split the test and train into X and Y\n",
    "#labels for attack category classification -multiclass\n",
    "labels_category=train_dset.attack_category_gen\n",
    "# labels for determining if traffic is benign or malicious- binary classification\n",
    "labels_binary=train_dset.malicious\n",
    "train_dsetX=train_dset.drop(columns=['malicious','attack_category_gen'],inplace=False)\n",
    "\n",
    "test_dsetX=test_dset.drop(columns=['malicious','attack_category_gen'],inplace=False)\n",
    "train_dsetX.drop(columns=['attack_type'],inplace=True)\n",
    "test_dsetX.drop(columns=['attack_type'],inplace=True)"
   ]
  },
  {
   "cell_type": "code",
   "execution_count": 57,
   "metadata": {},
   "outputs": [],
   "source": []
  },
  {
   "cell_type": "code",
   "execution_count": 236,
   "metadata": {},
   "outputs": [],
   "source": [
    "test_labels_category=test_dset['attack_category_gen']\n",
    "test_labels_binary = test_dset['malicious']"
   ]
  },
  {
   "cell_type": "code",
   "execution_count": 237,
   "metadata": {},
   "outputs": [
    {
     "data": {
      "text/plain": [
       "Index(['duration', 'src_bytes', 'dst_bytes', 'land', 'wrong_fragment',\n",
       "       'urgent', 'hot', 'num_failed_logins', 'logged_in', 'num_compromised',\n",
       "       ...\n",
       "       'flag_REJ', 'flag_RSTO', 'flag_RSTOS0', 'flag_RSTR', 'flag_S0',\n",
       "       'flag_S1', 'flag_S2', 'flag_S3', 'flag_SF', 'flag_SH'],\n",
       "      dtype='object', length=118)"
      ]
     },
     "execution_count": 237,
     "metadata": {},
     "output_type": "execute_result"
    }
   ],
   "source": [
    "#combine test and train datasets for encoding\n",
    "combined_dsetX = pd.concat([train_dsetX, test_dsetX])\n",
    "#encode categorical features, e.g. service\n",
    "combined_dset = pd.get_dummies(combined_dsetX, columns=nominal_features, drop_first=True)\n",
    "#go back to the initial dset ivision\n",
    "train_dset = combined_dset[:len(train_dsetX)]\n",
    "test_dset = combined_dset[len(train_dsetX):]\n",
    "\n",
    "# Store dummy variable feature names\n",
    "encoded = list(set(train_dset)-set(combined_dset))\n",
    "encoded\n",
    "combined_dset.columns"
   ]
  },
  {
   "cell_type": "markdown",
   "metadata": {},
   "source": [
    "<h3>Binary classification</h3>"
   ]
  },
  {
   "cell_type": "code",
   "execution_count": 269,
   "metadata": {},
   "outputs": [
    {
     "data": {
      "text/plain": [
       "{'GaussianNB': {'fit_time': array([0.29025531, 0.28726101, 0.36698294, 0.29820108, 0.33709717]),\n",
       "  'score_time': array([0.0797596 , 0.08377624, 0.07579732, 0.07579684, 0.09175467]),\n",
       "  'test_accuracy': array([0.85897996, 0.85739234, 0.86009129, 0.85770422, 0.85869652]),\n",
       "  'test_f1': array([0.82202074, 0.81976423, 0.82360006, 0.82007528, 0.8215002 ])},\n",
       " 'DecisionTreeClassifier': {'fit_time': array([1.20218301, 1.14496255, 1.27156234, 1.25962543, 1.22175765]),\n",
       "  'score_time': array([0.02792549, 0.02593064, 0.02692819, 0.02692819, 0.02692866]),\n",
       "  'test_accuracy': array([0.99841238, 0.99845207, 0.99845207, 0.99805509, 0.99872986]),\n",
       "  'test_f1': array([0.9982941 , 0.99833738, 0.99833696, 0.99791054, 0.99863563])},\n",
       " 'RandomForestClassifier': {'fit_time': array([7.71519065, 7.86501336, 7.84241915, 7.79541802, 7.68245077]),\n",
       "  'score_time': array([0.26030302, 0.28223753, 0.2632556 , 0.26429224, 0.26130629]),\n",
       "  'test_accuracy': array([0.99900774, 0.99904743, 0.99896805, 0.99884893, 0.9990077 ]),\n",
       "  'test_f1': array([0.99893349, 0.99897611, 0.99889097, 0.99876253, 0.99893322])},\n",
       " 'KNeighborsClassifier': {'fit_time': array([14.42344904, 14.6118145 , 12.76004672, 14.84720826, 16.26538682]),\n",
       "  'score_time': array([ 71.87358761,  74.44408846,  94.18192983,  72.00913119,\n",
       "         102.97399116]),\n",
       "  'test_accuracy': array([0.9962691 , 0.9962691 , 0.9958722 , 0.99618957, 0.99690402]),\n",
       "  'test_f1': array([0.99598805, 0.99598839, 0.99556692, 0.99590164, 0.99667264])}}"
      ]
     },
     "execution_count": 269,
     "metadata": {},
     "output_type": "execute_result"
    }
   ],
   "source": [
    "# testing classification on the following models using cross validation on the train set\n",
    "models = [    \n",
    "    GaussianNB(),\n",
    "     DecisionTreeClassifier(),\n",
    "    RandomForestClassifier(),\n",
    "    KNeighborsClassifier(),\n",
    "]\n",
    "results={}\n",
    "\n",
    "# calculate metrics for each model in a 5-fold cross-validation\n",
    "for model in models:\n",
    "    modelname = model.__class__.__name__\n",
    "    cv_results = cross_validate(model, train_dset, labels_binary, scoring=['accuracy','f1'])\n",
    "    results[modelname] = cv_results\n",
    "results"
   ]
  },
  {
   "cell_type": "code",
   "execution_count": 297,
   "metadata": {},
   "outputs": [
    {
     "data": {
      "text/plain": [
       "0.266278936"
      ]
     },
     "execution_count": 297,
     "metadata": {},
     "output_type": "execute_result"
    }
   ],
   "source": [
    "lst=[0.26030302, 0.28223753, 0.2632556 , 0.26429224, 0.26130629]\n",
    "sum(lst) / len(lst)"
   ]
  },
  {
   "cell_type": "code",
   "execution_count": 325,
   "metadata": {},
   "outputs": [
    {
     "name": "stdout",
     "output_type": "stream",
     "text": [
      "GaussianNB\n",
      "[[9644   67]\n",
      " [9722 3111]]\n",
      "0.5657824698367636\n",
      "0.38860783211542066\n",
      "DecisionTreeClassifier\n",
      "[[9398  313]\n",
      " [3788 9045]]\n",
      "0.8180890702625976\n",
      "0.8151953494659997\n",
      "RandomForestClassifier\n",
      "[[9449  262]\n",
      " [5261 7572]]\n",
      "0.7550124201561391\n",
      "0.7327623748004065\n",
      "KNeighborsClassifier\n",
      "[[9443  268]\n",
      " [4756 8077]]\n",
      "0.7771469127040455\n",
      "0.7627726886391538\n"
     ]
    }
   ],
   "source": [
    "#evaluate models on test set\n",
    "conf_matrices={}\n",
    "for model in models:\n",
    "    print(model.__class__.__name__)\n",
    "    classifier = model\n",
    "    classifier.fit(train_dset, labels_binary)\n",
    "\n",
    "    pred_y = classifier.predict(test_dset)\n",
    "\n",
    "    conf = confusion_matrix(test_labels_binary, pred_y)\n",
    "    error = zero_one_loss(test_labels_binary, pred_y)\n",
    "    f1=f1_score(test_labels_binary, pred_y)\n",
    "    conf_matrices[model.__class__.__name__]=conf\n",
    "    print(conf)\n",
    "    print(1-error)\n",
    "    print(f1)"
   ]
  },
  {
   "cell_type": "code",
   "execution_count": 326,
   "metadata": {},
   "outputs": [
    {
     "data": {
      "image/png": "[encoded data removed]",
      "text/plain": [
       "<Figure size 1008x720 with 8 Axes>"
      ]
     },
     "metadata": {
      "needs_background": "light"
     },
     "output_type": "display_data"
    }
   ],
   "source": [
    "fig = plt.figure(figsize=(14,10))\n",
    "classifiers=['GaussianNB','DecisionTreeClassifier','RandomForestClassifier','KNeighborsClassifier']\n",
    "\n",
    "for cnt,name in enumerate(classifiers):\n",
    "    plt.subplot(2, 2,cnt+1)\n",
    "    plt.title(name)\n",
    "    cm=conf_matrices[name]\n",
    "    cm= cm.astype('float') / cm.sum(axis=1)[:, np.newaxis]\n",
    "    map = sns.heatmap(cm,annot=True,fmt='.2%', cmap='Blues')\n",
    "    \n",
    "    plt.xlabel(\"Predicted label\")\n",
    "    plt.ylabel(\"True label\")\n",
    "plt.show()\n",
    "#ap = sns.heatmap(conf_matrices['DecisionTreeClassifier']/np.sum(conf_matrices['DecisionTreeClassifier'], axis=0),annot=True,fmt='.2%', cmap='Blues')\n",
    " \n",
    "\n",
    "#lt.show()"
   ]
  },
  {
   "cell_type": "code",
   "execution_count": 320,
   "metadata": {},
   "outputs": [
    {
     "name": "stdout",
     "output_type": "stream",
     "text": [
      "0.2424148332150461\n"
     ]
    },
    {
     "data": {
      "image/png": "[encoded data removed]",
      "text/plain": [
       "<Figure size 432x288 with 2 Axes>"
      ]
     },
     "metadata": {
      "needs_background": "light"
     },
     "output_type": "display_data"
    }
   ],
   "source": [
    "from sklearn.metrics import plot_confusion_matrix\n",
    "#Just Random Forests \n",
    "RFclassifier = RandomForestClassifier()\n",
    "RFclassifier.fit(train_dset, labels_binary)\n",
    "\n",
    "pred_y = RFclassifier.predict(test_dset)\n",
    "\n",
    "results = confusion_matrix(test_labels_binary, pred_y)\n",
    "error = zero_one_loss(test_labels_binary, pred_y)\n",
    "print(error)\n",
    "plot_confusion_matrix(RFclassifier, test_dset, test_labels_binary,normalize='true')  \n",
    "plt.show()"
   ]
  },
  {
   "cell_type": "code",
   "execution_count": 261,
   "metadata": {},
   "outputs": [
    {
     "data": {
      "text/plain": [
       "<matplotlib.axes._subplots.AxesSubplot at 0x278a3c6e9a0>"
      ]
     },
     "execution_count": 261,
     "metadata": {},
     "output_type": "execute_result"
    },
    {
     "data": {
      "image/png": "[encoded data removed]",
      "text/plain": [
       "<Figure size 432x288 with 1 Axes>"
      ]
     },
     "metadata": {
      "needs_background": "light"
     },
     "output_type": "display_data"
    }
   ],
   "source": [
    "#checking importance of  features for random forest\n",
    "feat_importances = pd.Series(RFclassifier.feature_importances_, index=test_dset.columns)\n",
    "feat_importances.nlargest(6).plot(kind='barh')\n"
   ]
  },
  {
   "cell_type": "code",
   "execution_count": 249,
   "metadata": {},
   "outputs": [],
   "source": [
    "#cheching which class was mostly misclassifed\n",
    "pred=pd.DataFrame(pred_y)\n",
    "pred.rename(columns={0: 'pred_y'},inplace=True)\n",
    "#test_labels_binary\n",
    "classified_samples=test_dset.merge(test_labels_binary, left_index=True, right_index=True)\n",
    "classified_samples=classified_samples.merge(pred,left_index=True, right_index=True)\n",
    "classified_samples=classified_samples.merge(test_labels_category,left_index=True, right_index=True)\n",
    "misclassified_samples = classified_samples.query('malicious != pred_y')\n",
    "#list(misclassified_samples.columns)\n",
    "#len(test_dset)\n"
   ]
  },
  {
   "cell_type": "code",
   "execution_count": 253,
   "metadata": {},
   "outputs": [
    {
     "data": {
      "text/plain": [
       "remote_access           2801\n",
       "dos                     1288\n",
       "probe                    538\n",
       "benign                   264\n",
       "privilege_escalation      57\n",
       "Name: attack_category_gen, dtype: int64"
      ]
     },
     "execution_count": 253,
     "metadata": {},
     "output_type": "execute_result"
    }
   ],
   "source": [
    "misclassified_samples.attack_category_gen.value_counts()"
   ]
  },
  {
   "cell_type": "code",
   "execution_count": 267,
   "metadata": {},
   "outputs": [
    {
     "data": {
      "text/plain": [
       "99.87537"
      ]
     },
     "execution_count": 267,
     "metadata": {},
     "output_type": "execute_result"
    }
   ],
   "source": [
    "lst=[0.9987696 , 0.99892836, 0.99853145, 0.99865047, 0.99888862]\n",
    "sum(lst) / len(lst) *100"
   ]
  },
  {
   "cell_type": "markdown",
   "metadata": {},
   "source": [
    "<b>Multiclass classification </b>"
   ]
  },
  {
   "cell_type": "code",
   "execution_count": 329,
   "metadata": {},
   "outputs": [
    {
     "data": {
      "text/plain": [
       "{'GaussianNB': {'fit_time': array([0.37100053, 0.36901855, 0.40488338, 0.38596654, 0.37499619]),\n",
       "  'score_time': array([0.25332069, 0.26129317, 0.25132728, 0.28822923, 0.25631452]),\n",
       "  'test_accuracy': array([0.82810081, 0.70263941, 0.7337567 , 0.68837819, 0.77133444]),\n",
       "  'test_f1_macro': array([0.47011745, 0.41094974, 0.41742133, 0.4016391 , 0.43989697])},\n",
       " 'DecisionTreeClassifier': {'fit_time': array([1.36437917, 1.54981589, 1.44316769, 1.38329029, 1.50796294]),\n",
       "  'score_time': array([0.12865257, 0.13164735, 0.13065672, 0.13165474, 0.13263845]),\n",
       "  'test_accuracy': array([0.99829331, 0.99809486, 0.9979361 , 0.99821386, 0.99781694]),\n",
       "  'test_f1_macro': array([0.88775024, 0.93399037, 0.93246799, 0.89569409, 0.9218721 ])},\n",
       " 'RandomForestClassifier': {'fit_time': array([8.57079744, 8.67776418, 8.36928487, 8.78448248, 8.39555597]),\n",
       "  'score_time': array([0.40894151, 0.40191746, 0.39593935, 0.44580388, 0.39206791]),\n",
       "  'test_accuracy': array([0.99880929, 0.99888867, 0.99869022, 0.99876955, 0.9990077 ]),\n",
       "  'test_f1_macro': array([0.91270619, 0.91884328, 0.93421081, 0.91996421, 0.90203078])},\n",
       " 'KNeighborsClassifier': {'fit_time': array([14.67323494, 14.9447248 , 12.46761894, 14.42994094, 16.84578061]),\n",
       "  'score_time': array([ 75.06334662,  76.7713244 ,  99.4745183 ,  71.02915215,\n",
       "         103.81617737]),\n",
       "  'test_accuracy': array([0.99583251, 0.99646755, 0.99547529, 0.99575296, 0.99674526]),\n",
       "  'test_f1_macro': array([0.8592552 , 0.8704608 , 0.85272691, 0.83482124, 0.87787002])}}"
      ]
     },
     "execution_count": 329,
     "metadata": {},
     "output_type": "execute_result"
    }
   ],
   "source": [
    "# testing classification on the following models using cross validation on the train set\n",
    "multi_models = [    \n",
    "    GaussianNB(),\n",
    "     DecisionTreeClassifier(),\n",
    "    RandomForestClassifier(),\n",
    "    KNeighborsClassifier(),\n",
    "]\n",
    "multi_results={}\n",
    "\n",
    "# calculate metrics for each model in a 5-fold cross-validation\n",
    "for model in multi_models:\n",
    "    modelname = model.__class__.__name__\n",
    "    cv_results = cross_validate(model, train_dset, labels_category, scoring=['accuracy','f1_macro'])\n",
    "    multi_results[modelname] = cv_results\n",
    "multi_results"
   ]
  },
  {
   "cell_type": "code",
   "execution_count": 346,
   "metadata": {},
   "outputs": [
    {
     "name": "stdout",
     "output_type": "stream",
     "text": [
      "GaussianNB\n",
      "[[6756   62  284   10 2599]\n",
      " [3229 3162   24    4 1041]\n",
      " [   6    0   43    0   18]\n",
      " [1382  345  134  237  323]\n",
      " [1393    3  546    6  937]]\n",
      "0.4939229950319375\n",
      "0.3339750688412651\n",
      "DecisionTreeClassifier\n",
      "[[9351   60    0  298    2]\n",
      " [1413 5950    0   97    0]\n",
      " [  48    0   10    2    7]\n",
      " [ 693  244    0 1484    0]\n",
      " [2686    4    2   16  177]]\n",
      "0.7528388928317956\n",
      "0.5411420177472228\n",
      "RandomForestClassifier\n",
      "[[9459   67    0  185    0]\n",
      " [1252 6165    0   43    0]\n",
      " [  62    0    3    0    2]\n",
      " [ 808  164    0 1449    0]\n",
      " [2794    0    2    3   86]]\n",
      "0.7612668559261888\n",
      "0.5046293988086643\n",
      "KNeighborsClassifier\n",
      "[[9444   54    1  207    5]\n",
      " [1454 5925    0   81    0]\n",
      " [  54    0    9    0    4]\n",
      " [ 612  180    0 1629    0]\n",
      " [2656    2    0   57  170]]\n",
      "0.7619322214336409\n",
      "0.5490557092009556\n"
     ]
    }
   ],
   "source": [
    "m_matrices={}\n",
    "for model in multi_models:\n",
    "    print(model.__class__.__name__)\n",
    "    mclassifier = model\n",
    "    mclassifier.fit(train_dset, labels_category)\n",
    "\n",
    "    m_pred_y = mclassifier.predict(test_dset)\n",
    "\n",
    "    multi_conf = confusion_matrix(test_labels_category, m_pred_y)\n",
    "    multi_error = zero_one_loss(test_labels_category, m_pred_y)\n",
    "    m_matrices[model.__class__.__name__]=multi_conf\n",
    "    f1=f1_score(test_labels_category , m_pred_y,average='macro') \n",
    "    print(multi_conf)\n",
    "    print(1-multi_error)\n",
    "    print(f1)"
   ]
  },
  {
   "cell_type": "code",
   "execution_count": 345,
   "metadata": {},
   "outputs": [
    {
     "data": {
      "image/png": "[encoded data removed]",
      "text/plain": [
       "<Figure size 1440x720 with 8 Axes>"
      ]
     },
     "metadata": {
      "needs_background": "light"
     },
     "output_type": "display_data"
    }
   ],
   "source": [
    "fig = plt.figure(figsize=(20,10))\n",
    "fig.tight_layout(pad=7.0)\n",
    "classifiers=['GaussianNB','DecisionTreeClassifier','RandomForestClassifier','KNeighborsClassifier']\n",
    "classes=sorted(test_labels_category.unique())\n",
    "for cnt,name in enumerate(classifiers):\n",
    "    plt.subplot(2, 2,cnt+1)\n",
    "    plt.title(name)\n",
    "    cm=m_matrices[name]\n",
    "    cm= cm.astype('float') / cm.sum(axis=1)[:, np.newaxis]\n",
    "    map = sns.heatmap(cm,annot=True,fmt='.2%', cmap='Blues', xticklabels=classes, yticklabels=classes)    \n",
    "    plt.xlabel(\"Predicted label\")\n",
    "    plt.ylabel(\"True label\")\n",
    "plt.show()"
   ]
  },
  {
   "cell_type": "code",
   "execution_count": 354,
   "metadata": {},
   "outputs": [
    {
     "name": "stdout",
     "output_type": "stream",
     "text": [
      "GaussianNB\n",
      "0.38117303848266604\n",
      "0.2620969772338867\n",
      "0.7448419107968247\n",
      "0.4280049200310563\n",
      "DecisionTreeClassifier\n",
      "1.449723196029663\n",
      "0.1310499668121338\n",
      "0.9980710143345981\n",
      "0.914354957469253\n",
      "RandomForestClassifier\n",
      "8.559576988220215\n",
      "0.40893402099609377\n",
      "0.9988330841615284\n",
      "0.9175510556165001\n",
      "KNeighborsClassifier\n",
      "14.672260046005249\n",
      "85.23090376853943\n",
      "0.9960547132225747\n",
      "0.8590268366075581\n"
     ]
    }
   ],
   "source": [
    "for ct, mname in enumerate(classifiers):\n",
    "    print(mname)\n",
    "    print(np.mean(multi_results[mname]['fit_time']))\n",
    "    print(np.mean(multi_results[mname]['score_time']))\n",
    "    print(np.mean(multi_results[mname]['test_accuracy']))\n",
    "    print(np.mean(multi_results[mname]['test_f1_macro']))"
   ]
  },
  {
   "cell_type": "markdown",
   "metadata": {},
   "source": [
    "<b>Attempting undersampling to address class imbalance</b>"
   ]
  },
  {
   "cell_type": "code",
   "execution_count": 393,
   "metadata": {},
   "outputs": [
    {
     "data": {
      "text/plain": [
       "benign                  67343\n",
       "dos                     45927\n",
       "probe                   11656\n",
       "remote_access             995\n",
       "privilege_escalation       52\n",
       "Name: attack_category_gen, dtype: int64"
      ]
     },
     "execution_count": 393,
     "metadata": {},
     "output_type": "execute_result"
    }
   ],
   "source": [
    "#find the mean size of category\n",
    "mean_class = int(pd.Series(labels_category).value_counts().sum()/5)\n",
    "mean_class\n",
    "pd.Series(labels_category).value_counts()\n",
    "mean_class = int(pd.Series(labels_category).value_counts().sum()/5)"
   ]
  },
  {
   "cell_type": "markdown",
   "metadata": {},
   "source": [
    "<b>Over/undersampling</b>"
   ]
  },
  {
   "cell_type": "code",
   "execution_count": 403,
   "metadata": {},
   "outputs": [
    {
     "name": "stdout",
     "output_type": "stream",
     "text": [
      "probe                   67343\n",
      "dos                     67343\n",
      "privilege_escalation    67343\n",
      "benign                  67343\n",
      "remote_access           67343\n",
      "Name: attack_category_gen, dtype: int64\n"
     ]
    }
   ],
   "source": [
    "#try oversampling remote access and priv esc classes with smote or trying auto strategy\n",
    "from imblearn.over_sampling import SMOTE\n",
    "\n",
    "\n",
    "strategy = {     \n",
    "         'remote_access': mean_class,\n",
    "         'privilege_escalation': mean_class}\n",
    "\n",
    "sampler = SMOTE(sampling_strategy='auto', random_state=0)\n",
    "train_dset_sampled, train_labels_sampled = sampler.fit_sample(train_dset, labels_category)\n",
    "print(pd.Series(train_labels_sampled).value_counts())"
   ]
  },
  {
   "cell_type": "code",
   "execution_count": 406,
   "metadata": {},
   "outputs": [
    {
     "name": "stdout",
     "output_type": "stream",
     "text": [
      "benign                  25194\n",
      "dos                     25194\n",
      "remote_access           25194\n",
      "probe                   25194\n",
      "privilege_escalation    25194\n",
      "Name: attack_category_gen, dtype: int64\n"
     ]
    }
   ],
   "source": [
    "from imblearn.under_sampling import RandomUnderSampler\n",
    "\n",
    "\n",
    "strategy = {     'benign':mean_class,\n",
    "            'dos':mean_class,\n",
    "            'probe':mean_class,\n",
    "         'remote_access': mean_class,\n",
    "         'privilege_escalation': mean_class}\n",
    "\n",
    "sampler = RandomUnderSampler(sampling_strategy=strategy, random_state=0)\n",
    "train_dset_usampled, train_labels_usampled = sampler.fit_sample(train_dset_sampled, train_labels_sampled)\n",
    "print(pd.Series(train_labels_usampled).value_counts())"
   ]
  },
  {
   "cell_type": "code",
   "execution_count": 410,
   "metadata": {},
   "outputs": [
    {
     "name": "stdout",
     "output_type": "stream",
     "text": [
      "[[9415   72   11  205    8]\n",
      " [1006 5356    2 1096    0]\n",
      " [  35    0   11    0   21]\n",
      " [ 416  162    8 1817   18]\n",
      " [2524    4   22  145  190]]\n",
      "0.5490557092009556\n",
      "0.7447214336408801\n"
     ]
    },
    {
     "data": {
      "text/plain": [
       "Text(32.09374999999999, 0.5, 'True label')"
      ]
     },
     "execution_count": 410,
     "metadata": {},
     "output_type": "execute_result"
    },
    {
     "data": {
      "image/png": "[encoded data removed]",
      "text/plain": [
       "<Figure size 432x288 with 2 Axes>"
      ]
     },
     "metadata": {
      "needs_background": "light"
     },
     "output_type": "display_data"
    }
   ],
   "source": [
    "#try Decision Trees after resampling\n",
    "DFclassifier = DecisionTreeClassifier(random_state=11)\n",
    "DFclassifier.fit(train_dset_usampled, train_labels_usampled)\n",
    "pred_y = DFclassifier.predict(test_dset)\n",
    "error = zero_one_loss(test_labels_category, pred_y)\n",
    "confm = confusion_matrix(test_labels_category, pred_y)\n",
    "f1=f1_score(test_labels_category , m_pred_y,average='macro')\n",
    "print(confm)\n",
    "print(f1)\n",
    "print(1-error)\n",
    "cm= confm.astype('float') / confm.sum(axis=1)[:, np.newaxis]\n",
    "matrix = sns.heatmap(cm,annot=True,fmt='.2%', cmap='Blues', xticklabels=classes, yticklabels=classes)  \n",
    "plt.xlabel(\"Predicted label\")\n",
    "plt.ylabel(\"True label\")"
   ]
  },
  {
   "cell_type": "markdown",
   "metadata": {},
   "source": [
    "<b>Hyperparameter tuning <b>"
   ]
  },
  {
   "cell_type": "code",
   "execution_count": 364,
   "metadata": {},
   "outputs": [
    {
     "name": "stdout",
     "output_type": "stream",
     "text": [
      "Estimators: 50, error: 0.2534599006387509\n",
      "Estimators: 100, error: 0.25745209368346345\n",
      "Estimators: 200, error: 0.254125266146203\n",
      "Estimators: 300, error: 0.2536816891412349\n",
      "Estimators: 400, error: 0.2576295244854506\n",
      "Estimators: 500, error: 0.2556334279630944\n"
     ]
    }
   ],
   "source": [
    "#Attempt hyperparams tuning -n_estimators\n",
    "#Just Random Forests \n",
    "estimators=[50,100,200,300,400,500]\n",
    "est_errors=[]\n",
    "for ct,i in enumerate(estimators):\n",
    "    RFclassifier = RandomForestClassifier(n_estimators=i)\n",
    "    RFclassifier.fit(train_dset, labels_category)\n",
    "    pred_y = RFclassifier.predict(test_dset)\n",
    "    error = zero_one_loss(test_labels_category, pred_y)\n",
    "    est_errors.append(error)\n",
    "    print(\"Estimators: {0}, error: {1}\".format(i,error))\n"
   ]
  },
  {
   "cell_type": "code",
   "execution_count": 368,
   "metadata": {},
   "outputs": [
    {
     "name": "stdout",
     "output_type": "stream",
     "text": [
      "Max depth: 10, error: 0.2539478353442157\n",
      "Max depth: 20, error: 0.25443577004968065\n",
      "Max depth: 30, error: 0.257319020581973\n",
      "Max depth: 40, error: 0.250221788502484\n",
      "Max depth: 50, error: 0.24946770759403836\n",
      "Max depth: 60, error: 0.25576650106458476\n",
      "Max depth: 70, error: 0.2391767210787793\n"
     ]
    }
   ],
   "source": [
    "#Attempt hyperparams tuning -\n",
    "#Just Random Forests \n",
    "depth=[10,20,30,40,50,60,70]\n",
    "errors=[]\n",
    "for ct,i in enumerate(depth):\n",
    "    \n",
    "    RFclassifier = RandomForestClassifier(max_depth=i)\n",
    "    RFclassifier.fit(train_dset, labels_category)\n",
    "    pred_y = RFclassifier.predict(test_dset)\n",
    "    error = zero_one_loss(test_labels_category, pred_y)\n",
    "    errors.append(error)\n",
    "    print(\"Max depth: {0}, error: {1}\".format(i,error))\n"
   ]
  },
  {
   "cell_type": "code",
   "execution_count": 373,
   "metadata": {},
   "outputs": [
    {
     "data": {
      "text/plain": [
       "Text(0, 0.5, 'error')"
      ]
     },
     "execution_count": 373,
     "metadata": {},
     "output_type": "execute_result"
    },
    {
     "data": {
      "image/png": "[encoded data removed]",
      "text/plain": [
       "<Figure size 432x288 with 1 Axes>"
      ]
     },
     "metadata": {
      "needs_background": "light"
     },
     "output_type": "display_data"
    }
   ],
   "source": [
    "plt.plot(depth,errors)\n",
    "plt.xlabel('max_depth')\n",
    "plt.ylabel('error')"
   ]
  },
  {
   "cell_type": "code",
   "execution_count": 374,
   "metadata": {},
   "outputs": [
    {
     "name": "stdout",
     "output_type": "stream",
     "text": [
      "[[9443  268]\n",
      " [4756 8077]]\n",
      "0.2601579134137686\n"
     ]
    }
   ],
   "source": [
    "RFclassifier = RandomForestClassifier(max_depth=70)\n",
    "RFclassifier.fit(train_dset, labels_category)\n",
    "pred_y = RFclassifier.predict(test_dset)\n",
    "error = zero_one_loss(test_labels_category, pred_y)\n",
    "confm = confusion_matrix(test_labels_category, m_pred_y)\n",
    "print(conf)\n",
    "print(error)"
   ]
  }
 ],
 "metadata": {
  "kernelspec": {
   "display_name": "Python 3",
   "language": "python",
   "name": "python3"
  },
  "language_info": {
   "codemirror_mode": {
    "name": "ipython",
    "version": 3
   },
   "file_extension": ".py",
   "mimetype": "text/x-python",
   "name": "python",
   "nbconvert_exporter": "python",
   "pygments_lexer": "ipython3",
   "version": "3.8.3"
  }
 },
 "nbformat": 4,
 "nbformat_minor": 4
}
